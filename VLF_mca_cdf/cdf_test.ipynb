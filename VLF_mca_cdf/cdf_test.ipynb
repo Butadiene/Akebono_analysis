{
 "cells": [
  {
   "cell_type": "markdown",
   "metadata": {},
   "source": [
    "cdflibの説明書\n",
    "https://cdflib.readthedocs.io/en/latest/introduction.html\n",
    "akebono cdfについて\n",
    "分かったこと\n",
    "・Epochはある基準時刻からの経過時間を記録したもの\n",
    "　cdflib.cdfepoch.breakdown(epoch, True or False)  #True だとndarray, False だとlistで返す　\n",
    "　↑のやつで[year, month, day, hour, minute, socond, milisecond]がたくさん入ったListを作れる\n",
    "・E, BはdBで入っていると思われる。(DARTSにあったときはそうだった)\n",
    "　The intensities are described in [dB] (0<I<254) where\n",
    "  0[dB]=10^-6[mV/m] for E-field and 0[dB] = 10^-6[pT] for B-field.\n",
    "分からないこと\n",
    "・Eaveの平均の仕方は？　Emaxはどの幅の最大？8sかな？\n"
   ]
  },
  {
   "cell_type": "code",
   "execution_count": 2,
   "metadata": {},
   "outputs": [],
   "source": [
    "import cdflib\n",
    "cdf_file = cdflib.CDF('ak_h1_mca_19890401_v02.cdf')"
   ]
  },
  {
   "cell_type": "code",
   "execution_count": 3,
   "metadata": {},
   "outputs": [
    {
     "data": {
      "text/plain": [
       "{'CDF': PosixPath('/home/www/Document/Akebono_analysis/Akebono_analysis/VLF_mca_cdf/ak_h1_mca_19890401_v02.cdf'),\n",
       " 'Version': '2.7.2',\n",
       " 'Encoding': 6,\n",
       " 'Majority': 'Row_major',\n",
       " 'rVariables': [],\n",
       " 'zVariables': ['Emax', 'Eave', 'Bmax', 'Bave', 'PostGap', 'Epoch', 'channel'],\n",
       " 'Attributes': [{'Acknowledgement': 'Global'},\n",
       "  {'ADID_ref': 'Global'},\n",
       "  {'Data_type': 'Global'},\n",
       "  {'Data_version': 'Global'},\n",
       "  {'Descriptor': 'Global'},\n",
       "  {'Discipline': 'Global'},\n",
       "  {'Generated_by': 'Global'},\n",
       "  {'Generation_date': 'Global'},\n",
       "  {'Instrument_type': 'Global'},\n",
       "  {'Logical_file_id': 'Global'},\n",
       "  {'Logical_source': 'Global'},\n",
       "  {'Logical_source_description': 'Global'},\n",
       "  {'Mission_group': 'Global'},\n",
       "  {'MODS': 'Global'},\n",
       "  {'PI_affiliation': 'Global'},\n",
       "  {'PI_name': 'Global'},\n",
       "  {'Project': 'Global'},\n",
       "  {'Rules_of_use': 'Global'},\n",
       "  {'source_name': 'Global'},\n",
       "  {'TEXT': 'Global'},\n",
       "  {'Time_resolution': 'Global'},\n",
       "  {'TITLE': 'Global'},\n",
       "  {'Start_time': 'Global'},\n",
       "  {'End_time': 'Global'},\n",
       "  {'AVG_TYPE': 'Variable'},\n",
       "  {'CATDESC': 'Variable'},\n",
       "  {'DEPEND_0': 'Variable'},\n",
       "  {'DEPEND_1': 'Variable'},\n",
       "  {'DICT_KEY': 'Variable'},\n",
       "  {'DISPLAY_TYPE': 'Variable'},\n",
       "  {'FIELDNAM': 'Variable'},\n",
       "  {'FILLVAL': 'Variable'},\n",
       "  {'FORMAT': 'Variable'},\n",
       "  {'LABLAXIS': 'Variable'},\n",
       "  {'MONOTON': 'Variable'},\n",
       "  {'SCALETYP': 'Variable'},\n",
       "  {'UNITS': 'Variable'},\n",
       "  {'VALIDMAX': 'Variable'},\n",
       "  {'VALIDMIN': 'Variable'},\n",
       "  {'VAR_NOTE': 'Variable'},\n",
       "  {'VAR_TYPE': 'Variable'}],\n",
       " 'Copyright': '\\nNSSDC Common Data Format (CDF)\\n(C) Copyright 1990-2004 NASA/GSFC\\nNational Space Science Data Center\\nNASA/Goddard Space Flight Center\\nGreenbelt, Maryland 20771 USA\\n(DECnet   -- NCF::CDFSUPPORT)\\n(Internet -- CDFSUPPORT@NSSDCA.GSFC.NASA.GOV)\\n',\n",
       " 'Checksum': False,\n",
       " 'Num_rdim': 0,\n",
       " 'rDim_sizes': [],\n",
       " 'Compressed': False}"
      ]
     },
     "execution_count": 3,
     "metadata": {},
     "output_type": "execute_result"
    }
   ],
   "source": [
    "cdf_file.cdf_info()"
   ]
  },
  {
   "cell_type": "code",
   "execution_count": 62,
   "metadata": {},
   "outputs": [
    {
     "data": {
      "text/plain": [
       "{'Acknowledgement': 'AKEBONO VLF-MCA data were provided by Akebono VLF team through the data archive system at Kanazawa University in Japan.',\n",
       " 'ADID_ref': 'NSSD0241 ',\n",
       " 'Data_type': 'H1 > High Resolution data',\n",
       " 'Data_version': '2',\n",
       " 'Descriptor': 'MCA > multi channel analyzer',\n",
       " 'Discipline': 'Space Physics > Magnetospheric Science',\n",
       " 'Generated_by': 'KANAZAWA University',\n",
       " 'Generation_date': '20140529',\n",
       " 'Instrument_type': 'Radio and Plasma Waves(space)',\n",
       " 'Logical_file_id': 'AK_H1_MCA_19890401_V02',\n",
       " 'Logical_source': 'AK_H1_MCA',\n",
       " 'Logical_source_description': 'Akebono Radio and Plasma Waves High Resolution data',\n",
       " 'Mission_group': 'Akebono',\n",
       " 'MODS': ' ',\n",
       " 'PI_affiliation': 'KANAZAWA University',\n",
       " 'PI_name': 'I. Nagano',\n",
       " 'Project': ' ',\n",
       " 'Rules_of_use': ' In order to confirm the reliability of the data, you are requested to contact the VLF PI, Prof. Isamu Nagano before using the VLF-MCA data in oral/poster presentations. In the publishment, you should contact to the VLF PI and contact person before the submission for the confirmation of the principle of authorship/aknowledgement. You are also requested to send reprints to AKEBONO Project Office and the VLF PI:\\n\\nAKEBONO Project Office:\\n  Dr. Ayako Matsuoka (Project Scientist),\\n  Institute of Space and Astronautical Science,\\n  3-1-1 Yoshinodai, Sagamihara, Kanagawa 252-0222, Japan\\n  E-mail: matsuoka@isas.jaxa.jp\\n  FAX: +81-42-759-8456\\n\\nVLF PI:\\n  Prof. Isamu Nagano,\\n  Kanazawa University,\\n  Kakuma, Kanazawa 920-1192, Japan\\n  E-mail: nagano@is.t.kanazawa-u.ac.jp\\n  FAX: +81-76-234-4859\\n\\nFor further information, please contact with:\\n  Prof. Yoshiya Kasahara\\n  Kanazawa University,\\n  Kakuma, Kanazawa 920-1192, Japan\\n  E-mail: kasahara@is.t.kanazawa-u.ac.jp\\n  FAX: +81-76-234-4952\\n',\n",
       " 'source_name': 'Akebono > Akebono satellite',\n",
       " 'TEXT': 'Kimura, I., K. Hashimoto, I. Nagano, T. Okada, M. Yamamoto, T. Yoshino, H. Matsumoto, M. Ejiri, and K. Hayashi,\\nVLF observations by the Akebono (EXOS-D) satellite,\\nJ. Geomagn. Geoelectr., 42(4), pp.459-478, 1990\\n',\n",
       " 'Time_resolution': '8s',\n",
       " 'TITLE': 'Akebono MCA High resolution data',\n",
       " 'Start_time': '1989_04/01_0:0:0:0',\n",
       " 'End_time': '1989_04/01_23:59:59:999'}"
      ]
     },
     "execution_count": 62,
     "metadata": {},
     "output_type": "execute_result"
    }
   ],
   "source": [
    "cdf_file.globalattsget()"
   ]
  },
  {
   "cell_type": "code",
   "execution_count": 88,
   "metadata": {},
   "outputs": [
    {
     "data": {
      "text/plain": [
       "['0 0 4',\n",
       " '0 0 12',\n",
       " '0 0 20',\n",
       " '0 0 28',\n",
       " '0 0 36',\n",
       " '0 0 44',\n",
       " '0 0 52',\n",
       " '0 1 0',\n",
       " '0 1 8',\n",
       " '0 1 16']"
      ]
     },
     "execution_count": 88,
     "metadata": {},
     "output_type": "execute_result"
    }
   ],
   "source": [
    "#実時間に直す部分\n",
    "epoch = cdf_file.varget('Epoch')\n",
    "test_breakdown = cdflib.cdfepoch.breakdown(epoch,False)\n",
    "\n",
    "for i in range(len(test_breakdown)):\n",
    "    del test_breakdown[i][0:3]\n",
    "    test_breakdown[i].pop()\n",
    "    test_breakdown[i] = \" \".join(map(str, test_breakdown[i]))\n",
    "test_breakdown[0:10]"
   ]
  },
  {
   "cell_type": "code",
   "execution_count": 84,
   "metadata": {},
   "outputs": [
    {
     "ename": "IndexError",
     "evalue": "pop from empty list",
     "output_type": "error",
     "traceback": [
      "\u001b[0;31m---------------------------------------------------------------------------\u001b[0m",
      "\u001b[0;31mIndexError\u001b[0m                                Traceback (most recent call last)",
      "\u001b[1;32m/home/www/Document/Akebono_analysis/Akebono_analysis/VLF_mca_cdf/cdf_test.ipynb Cell 6'\u001b[0m in \u001b[0;36m<cell line: 1>\u001b[0;34m()\u001b[0m\n\u001b[1;32m      <a href='vscode-notebook-cell://wsl%2Bubuntu-20.04/home/www/Document/Akebono_analysis/Akebono_analysis/VLF_mca_cdf/cdf_test.ipynb#ch0000007vscode-remote?line=0'>1</a>\u001b[0m \u001b[39mfor\u001b[39;00m i \u001b[39min\u001b[39;00m \u001b[39mrange\u001b[39m(\u001b[39mlen\u001b[39m(test_breakdown)):\n\u001b[1;32m      <a href='vscode-notebook-cell://wsl%2Bubuntu-20.04/home/www/Document/Akebono_analysis/Akebono_analysis/VLF_mca_cdf/cdf_test.ipynb#ch0000007vscode-remote?line=1'>2</a>\u001b[0m     \u001b[39mdel\u001b[39;00m test_breakdown[i][\u001b[39m0\u001b[39m:\u001b[39m3\u001b[39m]\n\u001b[0;32m----> <a href='vscode-notebook-cell://wsl%2Bubuntu-20.04/home/www/Document/Akebono_analysis/Akebono_analysis/VLF_mca_cdf/cdf_test.ipynb#ch0000007vscode-remote?line=2'>3</a>\u001b[0m     test_breakdown[i]\u001b[39m.\u001b[39;49mpop()\n\u001b[1;32m      <a href='vscode-notebook-cell://wsl%2Bubuntu-20.04/home/www/Document/Akebono_analysis/Akebono_analysis/VLF_mca_cdf/cdf_test.ipynb#ch0000007vscode-remote?line=3'>4</a>\u001b[0m test_breakdown[\u001b[39m0\u001b[39m:\u001b[39m10\u001b[39m]\n",
      "\u001b[0;31mIndexError\u001b[0m: pop from empty list"
     ]
    }
   ],
   "source": []
  },
  {
   "cell_type": "code",
   "execution_count": 92,
   "metadata": {},
   "outputs": [
    {
     "data": {
      "text/plain": [
       "(array([3.16e+00, 5.62e+00, 1.00e+01, 1.78e+01, 3.16e+01, 5.62e+01,\n",
       "        1.00e+02, 1.78e+02, 3.16e+02, 5.62e+02, 1.00e+03, 1.78e+03,\n",
       "        3.16e+03, 5.62e+03, 1.00e+04, 1.78e+04], dtype=float32),\n",
       " '3.16')"
      ]
     },
     "execution_count": 92,
     "metadata": {},
     "output_type": "execute_result"
    }
   ],
   "source": [
    "cdf_file.varget(\"channel\"), str(3.16e+00)"
   ]
  },
  {
   "cell_type": "code",
   "execution_count": 22,
   "metadata": {},
   "outputs": [],
   "source": [
    "import numpy as np\n",
    "import matplotlib.pyplot as plt"
   ]
  },
  {
   "cell_type": "code",
   "execution_count": 95,
   "metadata": {},
   "outputs": [
    {
     "data": {
      "text/plain": [
       "<matplotlib.collections.QuadMesh at 0x7fbad4dcd190>"
      ]
     },
     "execution_count": 95,
     "metadata": {},
     "output_type": "execute_result"
    },
    {
     "data": {
      "image/png": "[encoded data removed]",
      "text/plain": [
       "<Figure size 432x288 with 1 Axes>"
      ]
     },
     "metadata": {
      "needs_background": "light"
     },
     "output_type": "display_data"
    }
   ],
   "source": [
    "Intensity_of_Eave = cdf_file.varget('Eave') #単位はdB\n",
    "freq = cdf_file.varget('channel')\n",
    "time = cdf_file.varget('Epoch')\n",
    "time = cdflib.cdfepoch.breakdown(time, False) #Falseなのでlist が返される\n",
    "\n",
    "#timeのyear, month, day, msの部分を削る\n",
    "year, month, day = str(time[1][0]), str(time[1][1]), str(time[1][2])\n",
    "for i in range(len(time)):\n",
    "    del time[i][0:3]\n",
    "    time[i].pop()\n",
    "    time[i] = \"\".join(map(str, time[i]))\n",
    "    time[i] = int(time[i])\n",
    "\n",
    "time_test = np.arange(0, len(time))\n",
    "Time, Freq = np.meshgrid(time_test, freq)\n",
    "\n",
    "plt.pcolormesh(Time, Freq, Intensity_of_Eave.T, cmap = 'nipy_spectral')"
   ]
  },
  {
   "cell_type": "code",
   "execution_count": 64,
   "metadata": {},
   "outputs": [
    {
     "data": {
      "text/plain": [
       "7"
      ]
     },
     "execution_count": 64,
     "metadata": {},
     "output_type": "execute_result"
    }
   ],
   "source": []
  },
  {
   "cell_type": "code",
   "execution_count": null,
   "metadata": {},
   "outputs": [],
   "source": []
  }
 ],
 "metadata": {
  "interpreter": {
   "hash": "916dbcbb3f70747c44a77c7bcd40155683ae19c65e1c03b4aa3499c5328201f1"
  },
  "kernelspec": {
   "display_name": "Python 3.8.10 64-bit",
   "language": "python",
   "name": "python3"
  },
  "language_info": {
   "codemirror_mode": {
    "name": "ipython",
    "version": 3
   },
   "file_extension": ".py",
   "mimetype": "text/x-python",
   "name": "python",
   "nbconvert_exporter": "python",
   "pygments_lexer": "ipython3",
   "version": "3.8.10"
  },
  "orig_nbformat": 4
 },
 "nbformat": 4,
 "nbformat_minor": 2
}
