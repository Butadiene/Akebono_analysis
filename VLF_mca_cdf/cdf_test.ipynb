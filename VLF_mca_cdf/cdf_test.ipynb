{
 "cells": [
  {
   "cell_type": "code",
   "execution_count": 1,
   "metadata": {},
   "outputs": [],
   "source": [
    "import cdflib\n",
    "cdf_file = cdflib.CDF('ak_h1_mca_19890401_v02.cdf')"
   ]
  },
  {
   "cell_type": "code",
   "execution_count": 2,
   "metadata": {},
   "outputs": [
    {
     "data": {
      "text/plain": [
       "{'CDF': PosixPath('/home/www/Document/Akebono_analysis/Akebono_analysis/VLF_mca_cdf/ak_h1_mca_19890401_v02.cdf'),\n",
       " 'Version': '2.7.2',\n",
       " 'Encoding': 6,\n",
       " 'Majority': 'Row_major',\n",
       " 'rVariables': [],\n",
       " 'zVariables': ['Emax', 'Eave', 'Bmax', 'Bave', 'PostGap', 'Epoch', 'channel'],\n",
       " 'Attributes': [{'Acknowledgement': 'Global'},\n",
       "  {'ADID_ref': 'Global'},\n",
       "  {'Data_type': 'Global'},\n",
       "  {'Data_version': 'Global'},\n",
       "  {'Descriptor': 'Global'},\n",
       "  {'Discipline': 'Global'},\n",
       "  {'Generated_by': 'Global'},\n",
       "  {'Generation_date': 'Global'},\n",
       "  {'Instrument_type': 'Global'},\n",
       "  {'Logical_file_id': 'Global'},\n",
       "  {'Logical_source': 'Global'},\n",
       "  {'Logical_source_description': 'Global'},\n",
       "  {'Mission_group': 'Global'},\n",
       "  {'MODS': 'Global'},\n",
       "  {'PI_affiliation': 'Global'},\n",
       "  {'PI_name': 'Global'},\n",
       "  {'Project': 'Global'},\n",
       "  {'Rules_of_use': 'Global'},\n",
       "  {'source_name': 'Global'},\n",
       "  {'TEXT': 'Global'},\n",
       "  {'Time_resolution': 'Global'},\n",
       "  {'TITLE': 'Global'},\n",
       "  {'Start_time': 'Global'},\n",
       "  {'End_time': 'Global'},\n",
       "  {'AVG_TYPE': 'Variable'},\n",
       "  {'CATDESC': 'Variable'},\n",
       "  {'DEPEND_0': 'Variable'},\n",
       "  {'DEPEND_1': 'Variable'},\n",
       "  {'DICT_KEY': 'Variable'},\n",
       "  {'DISPLAY_TYPE': 'Variable'},\n",
       "  {'FIELDNAM': 'Variable'},\n",
       "  {'FILLVAL': 'Variable'},\n",
       "  {'FORMAT': 'Variable'},\n",
       "  {'LABLAXIS': 'Variable'},\n",
       "  {'MONOTON': 'Variable'},\n",
       "  {'SCALETYP': 'Variable'},\n",
       "  {'UNITS': 'Variable'},\n",
       "  {'VALIDMAX': 'Variable'},\n",
       "  {'VALIDMIN': 'Variable'},\n",
       "  {'VAR_NOTE': 'Variable'},\n",
       "  {'VAR_TYPE': 'Variable'}],\n",
       " 'Copyright': '\\nNSSDC Common Data Format (CDF)\\n(C) Copyright 1990-2004 NASA/GSFC\\nNational Space Science Data Center\\nNASA/Goddard Space Flight Center\\nGreenbelt, Maryland 20771 USA\\n(DECnet   -- NCF::CDFSUPPORT)\\n(Internet -- CDFSUPPORT@NSSDCA.GSFC.NASA.GOV)\\n',\n",
       " 'Checksum': False,\n",
       " 'Num_rdim': 0,\n",
       " 'rDim_sizes': [],\n",
       " 'Compressed': False}"
      ]
     },
     "execution_count": 2,
     "metadata": {},
     "output_type": "execute_result"
    }
   ],
   "source": [
    "cdf_file.cdf_info()"
   ]
  },
  {
   "cell_type": "markdown",
   "metadata": {},
   "source": []
  },
  {
   "cell_type": "code",
   "execution_count": 3,
   "metadata": {},
   "outputs": [
    {
     "data": {
      "text/plain": [
       "array([3.16e+00, 5.62e+00, 1.00e+01, 1.78e+01, 3.16e+01, 5.62e+01,\n",
       "       1.00e+02, 1.78e+02, 3.16e+02, 5.62e+02, 1.00e+03, 1.78e+03,\n",
       "       3.16e+03, 5.62e+03, 1.00e+04, 1.78e+04], dtype=float32)"
      ]
     },
     "execution_count": 3,
     "metadata": {},
     "output_type": "execute_result"
    }
   ],
   "source": [
    "cdf_file.varget('channel')"
   ]
  },
  {
   "cell_type": "code",
   "execution_count": 4,
   "metadata": {},
   "outputs": [
    {
     "data": {
      "text/plain": [
       "array([[254, 254, 254, 254, 254, 254, 254, 254, 254, 254, 254, 254, 254,\n",
       "        254, 254, 254]], dtype=uint8)"
      ]
     },
     "execution_count": 4,
     "metadata": {},
     "output_type": "execute_result"
    }
   ],
   "source": [
    "cdf_file.varget(\"Eave\",startrec=0,endrec=0)"
   ]
  },
  {
   "cell_type": "code",
   "execution_count": 5,
   "metadata": {},
   "outputs": [],
   "source": [
    "import numpy as np\n",
    "import matplotlib.pyplot as plt"
   ]
  },
  {
   "cell_type": "code",
   "execution_count": 16,
   "metadata": {},
   "outputs": [],
   "source": [
    "xx = cdf_file.varget('Eave', startrec=4000, endrec=4000)\n",
    "#縦軸と周波数、横軸と実時間を結びつける必要あり　"
   ]
  },
  {
   "cell_type": "code",
   "execution_count": 21,
   "metadata": {},
   "outputs": [
    {
     "data": {
      "text/plain": [
       "array([[254, 254, 254, ..., 254, 254, 254],\n",
       "       [254, 254, 254, ..., 254, 254, 254],\n",
       "       [254, 254, 254, ..., 254, 254, 254],\n",
       "       ...,\n",
       "       [100, 101,  97, ...,  35,  33,  25],\n",
       "       [ 98,  95,  97, ...,  34,  30,  28],\n",
       "       [104, 102,  98, ...,  38,  32,  26]], dtype=uint8)"
      ]
     },
     "execution_count": 21,
     "metadata": {},
     "output_type": "execute_result"
    }
   ],
   "source": [
    "xx"
   ]
  },
  {
   "cell_type": "code",
   "execution_count": 22,
   "metadata": {},
   "outputs": [
    {
     "data": {
      "text/plain": [
       "<matplotlib.image.AxesImage at 0x7fb03cda9820>"
      ]
     },
     "execution_count": 22,
     "metadata": {},
     "output_type": "execute_result"
    },
    {
     "data": {
      "image/png": "[encoded data removed]",
      "text/plain": [
       "<Figure size 432x288 with 1 Axes>"
      ]
     },
     "metadata": {
      "needs_background": "light"
     },
     "output_type": "display_data"
    }
   ],
   "source": [
    "plt.imshow(xx, aspect=1e-2)"
   ]
  },
  {
   "cell_type": "code",
   "execution_count": null,
   "metadata": {},
   "outputs": [],
   "source": []
  }
 ],
 "metadata": {
  "interpreter": {
   "hash": "916dbcbb3f70747c44a77c7bcd40155683ae19c65e1c03b4aa3499c5328201f1"
  },
  "kernelspec": {
   "display_name": "Python 3.8.10 64-bit",
   "language": "python",
   "name": "python3"
  },
  "language_info": {
   "codemirror_mode": {
    "name": "ipython",
    "version": 3
   },
   "file_extension": ".py",
   "mimetype": "text/x-python",
   "name": "python",
   "nbconvert_exporter": "python",
   "pygments_lexer": "ipython3",
   "version": "3.8.10"
  },
  "orig_nbformat": 4
 },
 "nbformat": 4,
 "nbformat_minor": 2
}
