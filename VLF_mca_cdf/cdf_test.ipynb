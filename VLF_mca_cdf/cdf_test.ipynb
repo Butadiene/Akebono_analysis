{
 "cells": [
  {
   "cell_type": "markdown",
   "metadata": {},
   "source": [
    "cdflibの説明書\n",
    "https://cdflib.readthedocs.io/en/latest/introduction.html\n",
    "akebono cdfについて\\\n",
    "分かったこと\\\n",
    "・Epochはある基準時刻からの経過時間を記録したもの\\\n",
    "　cdflib.cdfepoch.breakdown(epoch, True or False)  #True だとndarray, False だとlistで返す\\　\n",
    "　↑のやつで[year, month, day, hour, minute, socond, milisecond]がたくさん入ったListを作れる\\\n",
    "・E, BはdBで入っていると思われる。(DARTSにあったときはそうだった)\\\n",
    "　The intensities are described in [dB] (0<I<254) where\n",
    "  0[dB]=10^-6[mV/m] for E-field and 0[dB] = 10^-6[pT] for B-field.\\\n",
    "分からないこと\\\n",
    "・Eaveの平均の仕方は？　Emaxはどの幅の最大？\\\n"
   ]
  },
  {
   "cell_type": "code",
   "execution_count": 52,
   "metadata": {},
   "outputs": [],
   "source": [
    "import cdflib\n",
    "cdf_file = cdflib.CDF('ak_h1_mca_19900211_v02.cdf')"
   ]
  },
  {
   "cell_type": "code",
   "execution_count": 53,
   "metadata": {},
   "outputs": [
    {
     "data": {
      "text/plain": [
       "{'CDF': PosixPath('/Document/Akebono_analysis/VLF_mca_cdf/ak_h1_mca_19900211_v02.cdf'),\n",
       " 'Version': '2.7.2',\n",
       " 'Encoding': 6,\n",
       " 'Majority': 'Row_major',\n",
       " 'rVariables': [],\n",
       " 'zVariables': ['Emax', 'Eave', 'Bmax', 'Bave', 'PostGap', 'Epoch', 'channel'],\n",
       " 'Attributes': [{'Acknowledgement': 'Global'},\n",
       "  {'ADID_ref': 'Global'},\n",
       "  {'Data_type': 'Global'},\n",
       "  {'Data_version': 'Global'},\n",
       "  {'Descriptor': 'Global'},\n",
       "  {'Discipline': 'Global'},\n",
       "  {'Generated_by': 'Global'},\n",
       "  {'Generation_date': 'Global'},\n",
       "  {'Instrument_type': 'Global'},\n",
       "  {'Logical_file_id': 'Global'},\n",
       "  {'Logical_source': 'Global'},\n",
       "  {'Logical_source_description': 'Global'},\n",
       "  {'Mission_group': 'Global'},\n",
       "  {'MODS': 'Global'},\n",
       "  {'PI_affiliation': 'Global'},\n",
       "  {'PI_name': 'Global'},\n",
       "  {'Project': 'Global'},\n",
       "  {'Rules_of_use': 'Global'},\n",
       "  {'source_name': 'Global'},\n",
       "  {'TEXT': 'Global'},\n",
       "  {'Time_resolution': 'Global'},\n",
       "  {'TITLE': 'Global'},\n",
       "  {'Start_time': 'Global'},\n",
       "  {'End_time': 'Global'},\n",
       "  {'AVG_TYPE': 'Variable'},\n",
       "  {'CATDESC': 'Variable'},\n",
       "  {'DEPEND_0': 'Variable'},\n",
       "  {'DEPEND_1': 'Variable'},\n",
       "  {'DICT_KEY': 'Variable'},\n",
       "  {'DISPLAY_TYPE': 'Variable'},\n",
       "  {'FIELDNAM': 'Variable'},\n",
       "  {'FILLVAL': 'Variable'},\n",
       "  {'FORMAT': 'Variable'},\n",
       "  {'LABLAXIS': 'Variable'},\n",
       "  {'MONOTON': 'Variable'},\n",
       "  {'SCALETYP': 'Variable'},\n",
       "  {'UNITS': 'Variable'},\n",
       "  {'VALIDMAX': 'Variable'},\n",
       "  {'VALIDMIN': 'Variable'},\n",
       "  {'VAR_NOTE': 'Variable'},\n",
       "  {'VAR_TYPE': 'Variable'}],\n",
       " 'Copyright': '\\nNSSDC Common Data Format (CDF)\\n(C) Copyright 1990-2004 NASA/GSFC\\nNational Space Science Data Center\\nNASA/Goddard Space Flight Center\\nGreenbelt, Maryland 20771 USA\\n(DECnet   -- NCF::CDFSUPPORT)\\n(Internet -- CDFSUPPORT@NSSDCA.GSFC.NASA.GOV)\\n',\n",
       " 'Checksum': False,\n",
       " 'Num_rdim': 0,\n",
       " 'rDim_sizes': [],\n",
       " 'Compressed': False}"
      ]
     },
     "execution_count": 53,
     "metadata": {},
     "output_type": "execute_result"
    }
   ],
   "source": [
    "cdf_file.cdf_info()"
   ]
  },
  {
   "cell_type": "code",
   "execution_count": 54,
   "metadata": {},
   "outputs": [
    {
     "data": {
      "text/plain": [
       "{'Acknowledgement': 'AKEBONO VLF-MCA data were provided by Akebono VLF team through the data archive system at Kanazawa University in Japan.',\n",
       " 'ADID_ref': 'NSSD0241 ',\n",
       " 'Data_type': 'H1 > High Resolution data',\n",
       " 'Data_version': '2',\n",
       " 'Descriptor': 'MCA > multi channel analyzer',\n",
       " 'Discipline': 'Space Physics > Magnetospheric Science',\n",
       " 'Generated_by': 'KANAZAWA University',\n",
       " 'Generation_date': '20140529',\n",
       " 'Instrument_type': 'Radio and Plasma Waves(space)',\n",
       " 'Logical_file_id': 'AK_H1_MCA_19900211_V02',\n",
       " 'Logical_source': 'AK_H1_MCA',\n",
       " 'Logical_source_description': 'Akebono Radio and Plasma Waves High Resolution data',\n",
       " 'Mission_group': 'Akebono',\n",
       " 'MODS': ' ',\n",
       " 'PI_affiliation': 'KANAZAWA University',\n",
       " 'PI_name': 'I. Nagano',\n",
       " 'Project': ' ',\n",
       " 'Rules_of_use': ' In order to confirm the reliability of the data, you are requested to contact the VLF PI, Prof. Isamu Nagano before using the VLF-MCA data in oral/poster presentations. In the publishment, you should contact to the VLF PI and contact person before the submission for the confirmation of the principle of authorship/aknowledgement. You are also requested to send reprints to AKEBONO Project Office and the VLF PI:\\n\\nAKEBONO Project Office:\\n  Dr. Ayako Matsuoka (Project Scientist),\\n  Institute of Space and Astronautical Science,\\n  3-1-1 Yoshinodai, Sagamihara, Kanagawa 252-0222, Japan\\n  E-mail: matsuoka@isas.jaxa.jp\\n  FAX: +81-42-759-8456\\n\\nVLF PI:\\n  Prof. Isamu Nagano,\\n  Kanazawa University,\\n  Kakuma, Kanazawa 920-1192, Japan\\n  E-mail: nagano@is.t.kanazawa-u.ac.jp\\n  FAX: +81-76-234-4859\\n\\nFor further information, please contact with:\\n  Prof. Yoshiya Kasahara\\n  Kanazawa University,\\n  Kakuma, Kanazawa 920-1192, Japan\\n  E-mail: kasahara@is.t.kanazawa-u.ac.jp\\n  FAX: +81-76-234-4952\\n',\n",
       " 'source_name': 'Akebono > Akebono satellite',\n",
       " 'TEXT': 'Kimura, I., K. Hashimoto, I. Nagano, T. Okada, M. Yamamoto, T. Yoshino, H. Matsumoto, M. Ejiri, and K. Hayashi,\\nVLF observations by the Akebono (EXOS-D) satellite,\\nJ. Geomagn. Geoelectr., 42(4), pp.459-478, 1990\\n',\n",
       " 'Time_resolution': '8s',\n",
       " 'TITLE': 'Akebono MCA High resolution data',\n",
       " 'Start_time': '1990_02/11_0:0:0:0',\n",
       " 'End_time': '1990_02/11_23:59:59:999'}"
      ]
     },
     "execution_count": 54,
     "metadata": {},
     "output_type": "execute_result"
    }
   ],
   "source": [
    "cdf_file.globalattsget()"
   ]
  },
  {
   "cell_type": "code",
   "execution_count": 12,
   "metadata": {},
   "outputs": [
    {
     "data": {
      "text/plain": [
       "['0 0 4',\n",
       " '0 0 12',\n",
       " '0 0 20',\n",
       " '0 0 28',\n",
       " '0 0 36',\n",
       " '0 0 44',\n",
       " '0 0 52',\n",
       " '0 1 0',\n",
       " '0 1 8',\n",
       " '0 1 16']"
      ]
     },
     "execution_count": 12,
     "metadata": {},
     "output_type": "execute_result"
    }
   ],
   "source": [
    "#実時間に直す部分\n",
    "epoch = cdf_file.varget('Epoch')\n",
    "test_breakdown = cdflib.cdfepoch.breakdown(epoch,False)\n",
    "\n",
    "for i in range(len(test_breakdown)):\n",
    "    del test_breakdown[i][0:3]\n",
    "    test_breakdown[i].pop()\n",
    "    test_breakdown[i] = \" \".join(map(str, test_breakdown[i]))\n",
    "test_breakdown[0:10]"
   ]
  },
  {
   "cell_type": "code",
   "execution_count": 69,
   "metadata": {},
   "outputs": [
    {
     "data": {
      "image/png": "[encoded data removed]",
      "text/plain": [
       "<Figure size 432x288 with 2 Axes>"
      ]
     },
     "metadata": {
      "needs_background": "light"
     },
     "output_type": "display_data"
    }
   ],
   "source": [
    "import numpy as np\n",
    "import matplotlib.pyplot as plt\n",
    "import matplotlib.dates as mdates\n",
    "from matplotlib.colors import Normalize \n",
    "from datetime import datetime\n",
    "\n",
    "start_time, end_time = [18, 2, 0], [18, 14, 0] # hour, minute, second\n",
    "\n",
    "start_time, end_time = (3600*start_time[0] + 60*start_time[1] + start_time[2])//8, (3600*end_time[0] + 60*end_time[1] + end_time[2])//8\n",
    "\n",
    "test_breakdown = cdflib.cdfepoch.breakdown(epoch,False) #list\n",
    "\n",
    "Intensity_of_Eave = cdf_file.varget('Eave')[start_time:end_time]\n",
    "Intensity_of_Eave = np.fliplr(Intensity_of_Eave)\n",
    "\n",
    "for i in range(len(test_breakdown)):\n",
    "    test_breakdown[i].pop()\n",
    "    test_breakdown[i] = \"/\".join(map(str, test_breakdown[i]))\n",
    "test_breakdown = [datetime.strptime(x, '%Y/%m/%d/%H/%M/%S') for x in test_breakdown]\n",
    "\n",
    "x_lims = mdates.date2num(test_breakdown)[start_time:end_time]#list の要素を datetime to num\n",
    "\n",
    "y_lims = cdf_file.varget('channel').tolist()\n",
    "\n",
    "fig, ax = plt.subplots()\n",
    "mappable = ax.imshow(Intensity_of_Eave.T, extent = [x_lims[0], x_lims[-1],  y_lims[0], y_lims[-1]], aspect='auto', cmap = 'rainbow', norm = Normalize(vmin = 40, vmax = 130))\n",
    "ax.xaxis_date()\n",
    "date_format = mdates.DateFormatter('%H:%M')\n",
    "ax.xaxis.set_major_formatter(date_format)\n",
    "ax.set_title('E field spectrum')\n",
    "ax.set_xlabel('February 11, 1990')\n",
    "ax.set_ylabel('E_freq [Hz]')\n",
    "ax.set_yscale('log')\n",
    "pp = fig.colorbar(mappable, label = 'E [dB]')\n",
    "pp.ax.set_ylim(0, 130)\n",
    "plt.show()"
   ]
  },
  {
   "cell_type": "code",
   "execution_count": 59,
   "metadata": {},
   "outputs": [
    {
     "data": {
      "text/plain": [
       "17800.0"
      ]
     },
     "execution_count": 59,
     "metadata": {},
     "output_type": "execute_result"
    }
   ],
   "source": [
    "y_lims[-1]"
   ]
  },
  {
   "cell_type": "markdown",
   "metadata": {},
   "source": []
  },
  {
   "cell_type": "code",
   "execution_count": 44,
   "metadata": {},
   "outputs": [
    {
     "data": {
      "text/plain": [
       "(array([[113, 100,  87,  79,  74,  67,  64,  61,  61,  67,  62,  51,  39,\n",
       "          43,  51,  41],\n",
       "        [ 73,  97,  85,  85,  77,  74,  69,  65,  62,  66,  62,  48,  42,\n",
       "          42,  49,  39],\n",
       "        [111, 105,  99, 105, 100,  94,  89,  80,  71,  69,  66,  50,  42,\n",
       "          44,  52,  40]], dtype=uint8),\n",
       " array([[ 41,  51,  43,  39,  51,  62,  67,  61,  61,  64,  67,  74,  79,\n",
       "          87, 100, 113],\n",
       "        [ 39,  49,  42,  42,  48,  62,  66,  62,  65,  69,  74,  77,  85,\n",
       "          85,  97,  73],\n",
       "        [ 40,  52,  44,  42,  50,  66,  69,  71,  80,  89,  94, 100, 105,\n",
       "          99, 105, 111]], dtype=uint8),\n",
       " array([[113,  73, 111],\n",
       "        [100,  97, 105],\n",
       "        [ 87,  85,  99],\n",
       "        [ 79,  85, 105],\n",
       "        [ 74,  77, 100],\n",
       "        [ 67,  74,  94],\n",
       "        [ 64,  69,  89],\n",
       "        [ 61,  65,  80],\n",
       "        [ 61,  62,  71],\n",
       "        [ 67,  66,  69],\n",
       "        [ 62,  62,  66],\n",
       "        [ 51,  48,  50],\n",
       "        [ 39,  42,  42],\n",
       "        [ 43,  42,  44],\n",
       "        [ 51,  49,  52],\n",
       "        [ 41,  39,  40]], dtype=uint8))"
      ]
     },
     "execution_count": 44,
     "metadata": {},
     "output_type": "execute_result"
    }
   ],
   "source": [
    "Intensity_of_Eave = cdf_file.varget('Eave')\n",
    "Intensity_of_Eave[4000:4003], np.fliplr(Intensity_of_Eave[4000:4003]), Intensity_of_Eave[4000:4003].T"
   ]
  },
  {
   "cell_type": "code",
   "execution_count": 92,
   "metadata": {},
   "outputs": [
    {
     "data": {
      "text/plain": [
       "(array([3.16e+00, 5.62e+00, 1.00e+01, 1.78e+01, 3.16e+01, 5.62e+01,\n",
       "        1.00e+02, 1.78e+02, 3.16e+02, 5.62e+02, 1.00e+03, 1.78e+03,\n",
       "        3.16e+03, 5.62e+03, 1.00e+04, 1.78e+04], dtype=float32),\n",
       " '3.16')"
      ]
     },
     "execution_count": 92,
     "metadata": {},
     "output_type": "execute_result"
    }
   ],
   "source": [
    "cdf_file.varget(\"channel\"), str(3.16e+00)"
   ]
  },
  {
   "cell_type": "code",
   "execution_count": 4,
   "metadata": {},
   "outputs": [],
   "source": [
    "import numpy as np\n",
    "import pandas as pd\n",
    "import seaborn as sns\n",
    "import matplotlib.pyplot as plt"
   ]
  },
  {
   "cell_type": "code",
   "execution_count": 5,
   "metadata": {},
   "outputs": [
    {
     "data": {
      "text/plain": [
       "<AxesSubplot:>"
      ]
     },
     "execution_count": 5,
     "metadata": {},
     "output_type": "execute_result"
    },
    {
     "data": {
      "image/png": "[encoded data removed]",
      "text/plain": [
       "<Figure size 432x288 with 2 Axes>"
      ]
     },
     "metadata": {
      "needs_background": "light"
     },
     "output_type": "display_data"
    }
   ],
   "source": [
    "Intensity_of_Eave = cdf_file.varget('Eave') #単位はdB\n",
    "freq = cdf_file.varget('channel')\n",
    "time = cdf_file.varget('Epoch')\n",
    "time = cdflib.cdfepoch.breakdown(time, False) #Falseなのでlist が返される\n",
    "\n",
    "#timeのyear, month, day, msの部分を削る\n",
    "year, month, day = str(time[1][0]), str(time[1][1]), str(time[1][2])\n",
    "for i in range(len(time)):\n",
    "    del time[i][0:3]\n",
    "    time[i].pop()\n",
    "    time[i] = \" \".join(map(str, time[i]))\n",
    "\n"
   ]
  },
  {
   "cell_type": "code",
   "execution_count": 64,
   "metadata": {},
   "outputs": [
    {
     "data": {
      "text/plain": [
       "7"
      ]
     },
     "execution_count": 64,
     "metadata": {},
     "output_type": "execute_result"
    }
   ],
   "source": []
  },
  {
   "cell_type": "code",
   "execution_count": null,
   "metadata": {},
   "outputs": [],
   "source": []
  }
 ],
 "metadata": {
  "interpreter": {
   "hash": "916dbcbb3f70747c44a77c7bcd40155683ae19c65e1c03b4aa3499c5328201f1"
  },
  "kernelspec": {
   "display_name": "Python 3.8.10 64-bit",
   "language": "python",
   "name": "python3"
  },
  "language_info": {
   "codemirror_mode": {
    "name": "ipython",
    "version": 3
   },
   "file_extension": ".py",
   "mimetype": "text/x-python",
   "name": "python",
   "nbconvert_exporter": "python",
   "pygments_lexer": "ipython3",
   "version": "3.8.10"
  },
  "orig_nbformat": 4
 },
 "nbformat": 4,
 "nbformat_minor": 2
}
